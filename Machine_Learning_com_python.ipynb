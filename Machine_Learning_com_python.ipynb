{
  "nbformat": 4,
  "nbformat_minor": 0,
  "metadata": {
    "colab": {
      "provenance": []
    },
    "kernelspec": {
      "name": "python3",
      "display_name": "Python 3"
    },
    "language_info": {
      "name": "python"
    }
  },
  "cells": [
    {
      "cell_type": "markdown",
      "source": [
        "# 1.1 - Algebra Linear em Python"
      ],
      "metadata": {
        "id": "GmKgMZkiYPMa"
      }
    },
    {
      "cell_type": "code",
      "source": [
        "# algebra linear -> x + 2 = 5 =>> x = 3   (Resolver sistemas de equações lineares.)\n",
        "# x + y = 10 (infinitas possibilidades de resolução)\n",
        "# se x = 0 o y = 10\n",
        "# se x = 2 o y = 8\n",
        "# Equeação Diofantica\n",
        "\n",
        "#x + y = 10\n",
        "#2x+ y = 11 --->>"
      ],
      "metadata": {
        "id": "wl_NzCH8sNRa"
      },
      "execution_count": 1,
      "outputs": []
    },
    {
      "cell_type": "markdown",
      "source": [
        "$$ \\alpha + \\beta = 10$$"
      ],
      "metadata": {
        "id": "mQshrQvMsTaE"
      }
    },
    {
      "cell_type": "code",
      "execution_count": 2,
      "metadata": {
        "id": "3sGkrW2LiWJ2"
      },
      "outputs": [],
      "source": [
        "import numpy as np\n",
        "import scipy as sc\n",
        "import sympy as sy\n",
        "import pandas as pd\n",
        "import matplotlib.pyplot as plt"
      ]
    },
    {
      "cell_type": "code",
      "source": [
        "# diferenças entre escalar, vetor e matriz\n",
        "# Escalar é um número (Tensor de ordem 0)-->> x=2\n",
        "x=2 #Escalar\n",
        "#Vetor é uma estrutura unidimencional, precisa um plano (cartesiano) (tensor de ondem 1)\n",
        "#matriz é um plano tridimencional,\n",
        "x2 = np.array([1,2,3]) # vetor com três elementos escalares\n",
        "x3 = np.array([[1],[2],[3]]) # Matriz(coluna) com 3 elementos vetores com elementos escalares\n",
        "x4 = np.array([[1,2,3],[1,2,3],[1,2,3]]) # Matriz quadrada tradicional\n",
        "print(x2)\n",
        "print()\n",
        "print(x3)\n",
        "print()\n",
        "print(x4)"
      ],
      "metadata": {
        "colab": {
          "base_uri": "https://localhost:8080/"
        },
        "id": "KsHh4Xdpugme",
        "outputId": "e32c2689-0e3e-4b38-ae77-49074d171a77"
      },
      "execution_count": 3,
      "outputs": [
        {
          "output_type": "stream",
          "name": "stdout",
          "text": [
            "[1 2 3]\n",
            "\n",
            "[[1]\n",
            " [2]\n",
            " [3]]\n",
            "\n",
            "[[1 2 3]\n",
            " [1 2 3]\n",
            " [1 2 3]]\n"
          ]
        }
      ]
    },
    {
      "cell_type": "code",
      "source": [
        "lista = [1,2,3,4,5]\n",
        "#df = pd.DataFrame(lista)  -> irá criar um DataFrame com Index 0\n",
        "df = pd.DataFrame({'coluna1':lista, 'coluna2':lista})   #-> vai criar com o index coluna 1 {} -> dicionário\n",
        "df"
      ],
      "metadata": {
        "colab": {
          "base_uri": "https://localhost:8080/",
          "height": 206
        },
        "id": "1NuAMep2y4GX",
        "outputId": "646f24bc-3a0f-47e2-d5e5-6cbd308dd77d"
      },
      "execution_count": 4,
      "outputs": [
        {
          "output_type": "execute_result",
          "data": {
            "text/plain": [
              "   coluna1  coluna2\n",
              "0        1        1\n",
              "1        2        2\n",
              "2        3        3\n",
              "3        4        4\n",
              "4        5        5"
            ],
            "text/html": [
              "\n",
              "  <div id=\"df-f54abc53-41f5-4726-b07d-9dd19cb66bde\">\n",
              "    <div class=\"colab-df-container\">\n",
              "      <div>\n",
              "<style scoped>\n",
              "    .dataframe tbody tr th:only-of-type {\n",
              "        vertical-align: middle;\n",
              "    }\n",
              "\n",
              "    .dataframe tbody tr th {\n",
              "        vertical-align: top;\n",
              "    }\n",
              "\n",
              "    .dataframe thead th {\n",
              "        text-align: right;\n",
              "    }\n",
              "</style>\n",
              "<table border=\"1\" class=\"dataframe\">\n",
              "  <thead>\n",
              "    <tr style=\"text-align: right;\">\n",
              "      <th></th>\n",
              "      <th>coluna1</th>\n",
              "      <th>coluna2</th>\n",
              "    </tr>\n",
              "  </thead>\n",
              "  <tbody>\n",
              "    <tr>\n",
              "      <th>0</th>\n",
              "      <td>1</td>\n",
              "      <td>1</td>\n",
              "    </tr>\n",
              "    <tr>\n",
              "      <th>1</th>\n",
              "      <td>2</td>\n",
              "      <td>2</td>\n",
              "    </tr>\n",
              "    <tr>\n",
              "      <th>2</th>\n",
              "      <td>3</td>\n",
              "      <td>3</td>\n",
              "    </tr>\n",
              "    <tr>\n",
              "      <th>3</th>\n",
              "      <td>4</td>\n",
              "      <td>4</td>\n",
              "    </tr>\n",
              "    <tr>\n",
              "      <th>4</th>\n",
              "      <td>5</td>\n",
              "      <td>5</td>\n",
              "    </tr>\n",
              "  </tbody>\n",
              "</table>\n",
              "</div>\n",
              "      <button class=\"colab-df-convert\" onclick=\"convertToInteractive('df-f54abc53-41f5-4726-b07d-9dd19cb66bde')\"\n",
              "              title=\"Convert this dataframe to an interactive table.\"\n",
              "              style=\"display:none;\">\n",
              "        \n",
              "  <svg xmlns=\"http://www.w3.org/2000/svg\" height=\"24px\"viewBox=\"0 0 24 24\"\n",
              "       width=\"24px\">\n",
              "    <path d=\"M0 0h24v24H0V0z\" fill=\"none\"/>\n",
              "    <path d=\"M18.56 5.44l.94 2.06.94-2.06 2.06-.94-2.06-.94-.94-2.06-.94 2.06-2.06.94zm-11 1L8.5 8.5l.94-2.06 2.06-.94-2.06-.94L8.5 2.5l-.94 2.06-2.06.94zm10 10l.94 2.06.94-2.06 2.06-.94-2.06-.94-.94-2.06-.94 2.06-2.06.94z\"/><path d=\"M17.41 7.96l-1.37-1.37c-.4-.4-.92-.59-1.43-.59-.52 0-1.04.2-1.43.59L10.3 9.45l-7.72 7.72c-.78.78-.78 2.05 0 2.83L4 21.41c.39.39.9.59 1.41.59.51 0 1.02-.2 1.41-.59l7.78-7.78 2.81-2.81c.8-.78.8-2.07 0-2.86zM5.41 20L4 18.59l7.72-7.72 1.47 1.35L5.41 20z\"/>\n",
              "  </svg>\n",
              "      </button>\n",
              "      \n",
              "  <style>\n",
              "    .colab-df-container {\n",
              "      display:flex;\n",
              "      flex-wrap:wrap;\n",
              "      gap: 12px;\n",
              "    }\n",
              "\n",
              "    .colab-df-convert {\n",
              "      background-color: #E8F0FE;\n",
              "      border: none;\n",
              "      border-radius: 50%;\n",
              "      cursor: pointer;\n",
              "      display: none;\n",
              "      fill: #1967D2;\n",
              "      height: 32px;\n",
              "      padding: 0 0 0 0;\n",
              "      width: 32px;\n",
              "    }\n",
              "\n",
              "    .colab-df-convert:hover {\n",
              "      background-color: #E2EBFA;\n",
              "      box-shadow: 0px 1px 2px rgba(60, 64, 67, 0.3), 0px 1px 3px 1px rgba(60, 64, 67, 0.15);\n",
              "      fill: #174EA6;\n",
              "    }\n",
              "\n",
              "    [theme=dark] .colab-df-convert {\n",
              "      background-color: #3B4455;\n",
              "      fill: #D2E3FC;\n",
              "    }\n",
              "\n",
              "    [theme=dark] .colab-df-convert:hover {\n",
              "      background-color: #434B5C;\n",
              "      box-shadow: 0px 1px 3px 1px rgba(0, 0, 0, 0.15);\n",
              "      filter: drop-shadow(0px 1px 2px rgba(0, 0, 0, 0.3));\n",
              "      fill: #FFFFFF;\n",
              "    }\n",
              "  </style>\n",
              "\n",
              "      <script>\n",
              "        const buttonEl =\n",
              "          document.querySelector('#df-f54abc53-41f5-4726-b07d-9dd19cb66bde button.colab-df-convert');\n",
              "        buttonEl.style.display =\n",
              "          google.colab.kernel.accessAllowed ? 'block' : 'none';\n",
              "\n",
              "        async function convertToInteractive(key) {\n",
              "          const element = document.querySelector('#df-f54abc53-41f5-4726-b07d-9dd19cb66bde');\n",
              "          const dataTable =\n",
              "            await google.colab.kernel.invokeFunction('convertToInteractive',\n",
              "                                                     [key], {});\n",
              "          if (!dataTable) return;\n",
              "\n",
              "          const docLinkHtml = 'Like what you see? Visit the ' +\n",
              "            '<a target=\"_blank\" href=https://colab.research.google.com/notebooks/data_table.ipynb>data table notebook</a>'\n",
              "            + ' to learn more about interactive tables.';\n",
              "          element.innerHTML = '';\n",
              "          dataTable['output_type'] = 'display_data';\n",
              "          await google.colab.output.renderOutput(dataTable, element);\n",
              "          const docLink = document.createElement('div');\n",
              "          docLink.innerHTML = docLinkHtml;\n",
              "          element.appendChild(docLink);\n",
              "        }\n",
              "      </script>\n",
              "    </div>\n",
              "  </div>\n",
              "  "
            ]
          },
          "metadata": {},
          "execution_count": 4
        }
      ]
    },
    {
      "cell_type": "code",
      "source": [
        "type(df.coluna1)    #->cada coluna é uma array que é igual a series"
      ],
      "metadata": {
        "colab": {
          "base_uri": "https://localhost:8080/"
        },
        "id": "o4fcn5NB1oEa",
        "outputId": "c6000c44-66d4-4665-c216-e898438a8783"
      },
      "execution_count": 5,
      "outputs": [
        {
          "output_type": "execute_result",
          "data": {
            "text/plain": [
              "pandas.core.series.Series"
            ]
          },
          "metadata": {},
          "execution_count": 5
        }
      ]
    },
    {
      "cell_type": "code",
      "source": [
        "lista[:1]"
      ],
      "metadata": {
        "colab": {
          "base_uri": "https://localhost:8080/"
        },
        "id": "nJBTYgC22F8H",
        "outputId": "9008efd9-8375-4e79-e73e-683915bbb8c6"
      },
      "execution_count": 6,
      "outputs": [
        {
          "output_type": "execute_result",
          "data": {
            "text/plain": [
              "[1]"
            ]
          },
          "metadata": {},
          "execution_count": 6
        }
      ]
    },
    {
      "cell_type": "code",
      "source": [
        "x2+x3   #->combinação linear (somatorio de elementos multiplicados entre si)"
      ],
      "metadata": {
        "colab": {
          "base_uri": "https://localhost:8080/"
        },
        "id": "7DSb8Uib4Kjb",
        "outputId": "8bf996ed-9371-46f9-d3a6-001570dc8403"
      },
      "execution_count": 7,
      "outputs": [
        {
          "output_type": "execute_result",
          "data": {
            "text/plain": [
              "array([[2, 3, 4],\n",
              "       [3, 4, 5],\n",
              "       [4, 5, 6]])"
            ]
          },
          "metadata": {},
          "execution_count": 7
        }
      ]
    },
    {
      "cell_type": "code",
      "source": [
        "# Multiplicar\n",
        "\n",
        "# arr1 (x,y) arr2 (z,w)  ---> y = z  / arr3 (x, w)\n",
        "#np.dot ou @\n",
        "#a.b != b.a\n",
        "np.dot(x4, x3)"
      ],
      "metadata": {
        "colab": {
          "base_uri": "https://localhost:8080/"
        },
        "id": "UojBjOGXYEMR",
        "outputId": "38d111c4-aeab-4908-ae73-3e48fb834023"
      },
      "execution_count": 8,
      "outputs": [
        {
          "output_type": "execute_result",
          "data": {
            "text/plain": [
              "array([[14],\n",
              "       [14],\n",
              "       [14]])"
            ]
          },
          "metadata": {},
          "execution_count": 8
        }
      ]
    },
    {
      "cell_type": "code",
      "source": [
        "x4@x3"
      ],
      "metadata": {
        "colab": {
          "base_uri": "https://localhost:8080/"
        },
        "id": "8uZ7dVSCceSp",
        "outputId": "f166c11f-01a0-4986-a6e8-5a7372272c44"
      },
      "execution_count": 9,
      "outputs": [
        {
          "output_type": "execute_result",
          "data": {
            "text/plain": [
              "array([[14],\n",
              "       [14],\n",
              "       [14]])"
            ]
          },
          "metadata": {},
          "execution_count": 9
        }
      ]
    },
    {
      "cell_type": "code",
      "source": [
        "#divisão\n",
        "\n",
        "#2.x = 4 ---> x=4/2\n",
        "#>> A.X = Y  ----->> Equação Fundamental da Algebra Linear\n",
        "x4 / x3"
      ],
      "metadata": {
        "colab": {
          "base_uri": "https://localhost:8080/"
        },
        "id": "cWOUVHvwdr9s",
        "outputId": "1e8aa594-613a-4668-8c9e-b1abecc910dc"
      },
      "execution_count": 10,
      "outputs": [
        {
          "output_type": "execute_result",
          "data": {
            "text/plain": [
              "array([[1.        , 2.        , 3.        ],\n",
              "       [0.5       , 1.        , 1.5       ],\n",
              "       [0.33333333, 0.66666667, 1.        ]])"
            ]
          },
          "metadata": {},
          "execution_count": 10
        }
      ]
    },
    {
      "cell_type": "markdown",
      "source": [
        "#1.1.1 Matrizes Especiais"
      ],
      "metadata": {
        "id": "qzKvZu_BhB_v"
      }
    },
    {
      "cell_type": "code",
      "source": [
        "'''\n",
        "Para os Escalares,\n",
        "O zero é um elementro neutro para a soma  e subtração\n",
        "o Um é um elemento neutro na multiplicação e divisão\n",
        "'''\n",
        "\n"
      ],
      "metadata": {
        "colab": {
          "base_uri": "https://localhost:8080/",
          "height": 35
        },
        "id": "_uZ1X1VGhAEz",
        "outputId": "ca22bad4-134b-420e-c62d-f67fe15f53af"
      },
      "execution_count": 11,
      "outputs": [
        {
          "output_type": "execute_result",
          "data": {
            "text/plain": [
              "'\\nPara os Escalares,\\nO zero é um elementro neutro para a soma  e subtração\\no Um é um elemento neutro na multiplicação e divisão\\n'"
            ],
            "application/vnd.google.colaboratory.intrinsic+json": {
              "type": "string"
            }
          },
          "metadata": {},
          "execution_count": 11
        }
      ]
    },
    {
      "cell_type": "code",
      "source": [
        "zeros=np.zeros((3,3))\n",
        "ones=np.ones((3,3))\n",
        "print(zeros)\n",
        "print()\n",
        "print(ones)"
      ],
      "metadata": {
        "colab": {
          "base_uri": "https://localhost:8080/"
        },
        "id": "-qjUAf9WiwIj",
        "outputId": "66d3f2a9-d6c4-480e-ca0d-0a022a505edc"
      },
      "execution_count": 12,
      "outputs": [
        {
          "output_type": "stream",
          "name": "stdout",
          "text": [
            "[[0. 0. 0.]\n",
            " [0. 0. 0.]\n",
            " [0. 0. 0.]]\n",
            "\n",
            "[[1. 1. 1.]\n",
            " [1. 1. 1.]\n",
            " [1. 1. 1.]]\n"
          ]
        }
      ]
    },
    {
      "cell_type": "markdown",
      "source": [
        "#1.1.2 Matrizes Inversas (Matriz Quadrada)"
      ],
      "metadata": {
        "id": "pBBWl_2asR-3"
      }
    },
    {
      "cell_type": "code",
      "source": [
        "x4"
      ],
      "metadata": {
        "colab": {
          "base_uri": "https://localhost:8080/"
        },
        "id": "PatLtvyTkbzx",
        "outputId": "87ee20d3-bbb0-4d67-cf43-26d99ba33e39"
      },
      "execution_count": 13,
      "outputs": [
        {
          "output_type": "execute_result",
          "data": {
            "text/plain": [
              "array([[1, 2, 3],\n",
              "       [1, 2, 3],\n",
              "       [1, 2, 3]])"
            ]
          },
          "metadata": {},
          "execution_count": 13
        }
      ]
    },
    {
      "cell_type": "markdown",
      "source": [
        "$$A = \\pmatrix{a_{00} & a_{01} & a_{02}\\\\ a_{10} & a_{11} & a_{12}\\\\a_{20} & a_{21} & a_{22}}\n",
        "$$"
      ],
      "metadata": {
        "id": "LpxGRl34kgop"
      }
    },
    {
      "cell_type": "code",
      "source": [
        "id = np.eye(3)\n",
        "id"
      ],
      "metadata": {
        "colab": {
          "base_uri": "https://localhost:8080/"
        },
        "id": "TRyuCz4JlvWz",
        "outputId": "0cdb62a6-9b30-4052-f0a3-ee893cb88632"
      },
      "execution_count": 14,
      "outputs": [
        {
          "output_type": "execute_result",
          "data": {
            "text/plain": [
              "array([[1., 0., 0.],\n",
              "       [0., 1., 0.],\n",
              "       [0., 0., 1.]])"
            ]
          },
          "metadata": {},
          "execution_count": 14
        }
      ]
    },
    {
      "cell_type": "code",
      "source": [
        "x4*id"
      ],
      "metadata": {
        "colab": {
          "base_uri": "https://localhost:8080/"
        },
        "id": "wWMH124umaQI",
        "outputId": "e761218e-cfb4-4a0c-bb1a-814e4dc51307"
      },
      "execution_count": 15,
      "outputs": [
        {
          "output_type": "execute_result",
          "data": {
            "text/plain": [
              "array([[1., 0., 0.],\n",
              "       [0., 2., 0.],\n",
              "       [0., 0., 3.]])"
            ]
          },
          "metadata": {},
          "execution_count": 15
        }
      ]
    },
    {
      "cell_type": "markdown",
      "source": [
        "$$x  .  x^{-1}  =  1$$\n",
        "\n",
        "-------\n",
        "$$Matriz Inversa$$\n",
        "$$A  .  A^{-1}  =  I -->>> Somente em matrizes quadradas.$$\n",
        "\n",
        "-----\n",
        "\n",
        "$$Equação Fundamental da Algebra $$\n",
        "\n",
        "$$A . X = Y--> Fundamento$$\n",
        "$$A . A^{-1}.X = A^{-1}. Y--> Multiplica nos dois lados$$\n",
        " $$ X = A^{-1} . Y    -->REsultado$$ $$--> Se A for uma matriz quadrada$$"
      ],
      "metadata": {
        "id": "PZ4_JtQVnWvX"
      }
    },
    {
      "cell_type": "code",
      "source": [
        "'''\n",
        "Um número multiplicado pelo se uinverso deve ter o resultado 1\n",
        "o numero 2, o seu inverso é 1/2\n",
        "2 * 1/2 = 1\n",
        "'''\n",
        "\n",
        "'''\n",
        "Uma MAtriz multiplicada pelo seu inverso deve gerar uma matriz identidade.\n",
        "MAtriz A\n",
        "'''\n"
      ],
      "metadata": {
        "colab": {
          "base_uri": "https://localhost:8080/",
          "height": 35
        },
        "id": "QvpsgWVsngd5",
        "outputId": "b240c64e-98e0-4482-a36c-7e1e58ad643e"
      },
      "execution_count": 16,
      "outputs": [
        {
          "output_type": "execute_result",
          "data": {
            "text/plain": [
              "'\\nUma MAtriz multiplicada pelo seu inverso deve gerar uma matriz identidade.\\nMAtriz A\\n'"
            ],
            "application/vnd.google.colaboratory.intrinsic+json": {
              "type": "string"
            }
          },
          "metadata": {},
          "execution_count": 16
        }
      ]
    },
    {
      "cell_type": "markdown",
      "source": [
        "# 1.1.3 Matrizes Pseudo Inversas (não Quadradas)"
      ],
      "metadata": {
        "id": "cvpI1qlFsao1"
      }
    },
    {
      "cell_type": "markdown",
      "source": [
        "$$Matrizes Pseudo Inversas$$\n",
        "$$X = (A.^{T}A)^{-1}A^{T}.Y ---> T = Matriz Transposta$$"
      ],
      "metadata": {
        "id": "b6PyQkhQvovN"
      }
    },
    {
      "cell_type": "code",
      "source": [
        "x1,y1 = -1,0\n",
        "x2,y2 = 0,1\n",
        "x3,y3 = 1,2\n",
        "x4,y4 = 2,1\n",
        "\n",
        "x = [x1,x2,x3,x4]\n",
        "y = [y1,y2,y3,y4]\n",
        "\n",
        "plt.figure(figsize=(10,5))\n",
        "\n",
        "plt.scatter(x1,y1, color='green', label='Pares Ordenados (X,Y)')\n",
        "plt.scatter(x2,y2, color='green')\n",
        "plt.scatter(x3,y3, color='green')\n",
        "plt.scatter(x4,y4, color='green')\n",
        "\n",
        "plt.plot(x,y, label='Gráfico que liga os Pontos')\n",
        "plt.grid(True)\n",
        "plt.box(False)\n",
        "plt.legend()\n",
        "plt.title('Interpolação da Reta Sobre Todos os Pontos')\n"
      ],
      "metadata": {
        "colab": {
          "base_uri": "https://localhost:8080/",
          "height": 485
        },
        "id": "n3ZpEJdWsaS3",
        "outputId": "bb9920df-a816-48a4-970c-306db988e9f8"
      },
      "execution_count": 17,
      "outputs": [
        {
          "output_type": "execute_result",
          "data": {
            "text/plain": [
              "Text(0.5, 1.0, 'Interpolação da Reta Sobre Todos os Pontos')"
            ]
          },
          "metadata": {},
          "execution_count": 17
        },
        {
          "output_type": "display_data",
          "data": {
            "text/plain": [
              "<Figure size 1000x500 with 1 Axes>"
            ],
            "image/png": "[encoded data removed]"
          },
          "metadata": {}
        }
      ]
    },
    {
      "cell_type": "code",
      "source": [
        "#y = mx + n\n",
        "#0 = -m + n\n",
        "A = np.array([[-1,1], [0,1], [1,1], [2,1]])\n",
        "y = np.array([[y1], [y2], [y3], [y4]])"
      ],
      "metadata": {
        "id": "Onx5Rc6syfGh"
      },
      "execution_count": 18,
      "outputs": []
    },
    {
      "cell_type": "code",
      "source": [
        "(m,n) = np.dot(np.dot(np.linalg.pinv(np.dot(A.T,A)),A.T),y) # -->X=(A.TA)−1AT.Y\n",
        "\n",
        "print(m,n)"
      ],
      "metadata": {
        "colab": {
          "base_uri": "https://localhost:8080/"
        },
        "id": "FO2KfXMQzu8S",
        "outputId": "a62d9481-12c9-418e-e083-7ad18ffce85b"
      },
      "execution_count": 19,
      "outputs": [
        {
          "output_type": "stream",
          "name": "stdout",
          "text": [
            "[0.4] [0.8]\n"
          ]
        }
      ]
    },
    {
      "cell_type": "code",
      "source": [
        "x1,y1 = -1,0\n",
        "x2,y2 = 0,1\n",
        "x3,y3 = 1,2\n",
        "x4,y4 = 2,1\n",
        "\n",
        "x = [x1,x2,x3,x4]\n",
        "y = [y1,y2,y3,y4]\n",
        "\n",
        "plt.figure(figsize=(10,5))\n",
        "\n",
        "plt.scatter(x1,y1, color='green', label='Pares Ordenados (X,Y)')\n",
        "plt.scatter(x2,y2, color='green')\n",
        "plt.scatter(x3,y3, color='green')\n",
        "plt.scatter(x4,y4, color='green')\n",
        "\n",
        "v_x=np.linspace(-1,2)\n",
        "plt.plot(x,y, label='Gráfico que liga os Pontos')\n",
        "plt.plot(v_x, m*v_x+n, label='Reta Otimizada pelo Método dos Minimos Quadrados')\n",
        "plt.grid(True)\n",
        "plt.box(False)\n",
        "plt.legend()\n",
        "plt.title('Interpolação da Reta Sobre Todos os Pontos')"
      ],
      "metadata": {
        "colab": {
          "base_uri": "https://localhost:8080/",
          "height": 485
        },
        "id": "vGs53UsT0ofb",
        "outputId": "f346ac37-94a4-4ddd-a0df-da3cc7a44c19"
      },
      "execution_count": 20,
      "outputs": [
        {
          "output_type": "execute_result",
          "data": {
            "text/plain": [
              "Text(0.5, 1.0, 'Interpolação da Reta Sobre Todos os Pontos')"
            ]
          },
          "metadata": {},
          "execution_count": 20
        },
        {
          "output_type": "display_data",
          "data": {
            "text/plain": [
              "<Figure size 1000x500 with 1 Axes>"
            ],
            "image/png": "[encoded data removed]"
          },
          "metadata": {}
        }
      ]
    },
    {
      "cell_type": "markdown",
      "source": [
        "# 1.2 Estatística em Python"
      ],
      "metadata": {
        "id": "Nd4UNd-Q3ynh"
      }
    },
    {
      "cell_type": "code",
      "source": [],
      "metadata": {
        "id": "1hE26qZY34SD"
      },
      "execution_count": 20,
      "outputs": []
    }
  ]
}